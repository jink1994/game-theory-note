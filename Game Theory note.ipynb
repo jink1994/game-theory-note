{
 "cells": [
  {
   "cell_type": "markdown",
   "metadata": {},
   "source": [
    "# Game Theory Note"
   ]
  },
  {
   "cell_type": "markdown",
   "metadata": {},
   "source": [
    "## Week 1\n",
    "##### GT intro TCP backup\n",
    "    correct or defective solution?\n",
    "##### Self-interested agents and utility theory\n",
    "    decision-making rationality\n",
    "##### defining games\n",
    "    Two standard representations\n",
    "        Noramal form: 范式博弈；players move simultaneously\n",
    "            Finite players <N,A,μ>: players, action set, utility function(payoff)\n",
    "            The standard matrix representation: 2-player as a matrix\n",
    "            A large collective action game: revolt or not(players up to 10 million)\n",
    "        Extensive form: 展开博弈；move sequentially, represented as a tree\n",
    "            Timing: in what order do things happen?\n",
    "            Information: what do players know when they act?\n",
    "##### Examples of games\n",
    "    Prisoner's dilemma ...V...\n",
    "    Games of pure competition\n",
    "        When players have exactly opposed interests, meaning there're only two players precisely;\n",
    "           constant sum game(Special case: zero sum)\n",
    "    Coordination game(which side of the road should you drive on?)\n",
    "    Games of cooperation\n",
    "        When players hhave exacty the same interests, in which players have the same utility function\n",
    "    General games: battle of the sexes(movie B or F?)\n",
    "        combines elements of cooperation and competition\n",
    "##### Nash Equilibrium intro\n",
    "    Keynes' beauty contest game: the stylized version\n",
    "        Hold a stock and the price is rising, but you have negative feeling about the stock. How can you sell the stock at arounf its peak? (what do you think of other people's thinking)\n",
    "##### Strategic reasoning\n",
    "    Same game: each player best responds to other players is the Nash Equilibrium\n",
    "    From 1 to 100, players choose the score for a model on magazines. The one who vote for the 2?3 of the average score wins the game.\n",
    "        THeoretically, everyone should vote for 1(smallest possible score)\n",
    "        Actually, 23 voters won in the first game.\n",
    "        Then in the second game, when every participants are aware of the rules, 4 voters won.\n",
    "    SHould we expect equilibria to be played?\n",
    "    Or non-equilibria?\n",
    "    Nash equilibrium maybe too perfect(requires a complete rationality for every players) to achieve\n",
    "##### Pure strategy nash equilibrium\n",
    "##### Dominant strategies\n",
    "    Domination\n",
    "        Strategy is choosing an ction ('pure strategy')\n",
    "        Strictly dominates: >\n",
    "        Very weakly dominates: >=\n",
    "    If evry player has a dominant strategy, the game will converge to a nash equilibrium\n",
    "    If every player has a strictly dominant strategy, the NE must be unique\n",
    "##### Pareto optimality\n",
    "    Analyzing games: can games be better as an outsiders?\n",
    "    Pareto-dominates: outcome 1 at least good a outcome 2 for every player\n",
    "    Why every game must have at least one Pareto optimal? By defination, if a cell is not a pareto optimal, there must be a cell pareto-dominates this cell, making the other cell pareto optimal.\n",
    "    Fun fact about prisoner's dilemma:\n",
    "        the nash equilibrium in this game is the only non-Pareto-optimal outcome.\n",
    "##### Further reading\n",
    "    A brief introduction to the basics of game theory\n",
    "    https://papers.ssrn.com/sol3/papers.cfm?abstract_id=1968579"
   ]
  },
  {
   "cell_type": "code",
   "execution_count": null,
   "metadata": {},
   "outputs": [],
   "source": []
  }
 ],
 "metadata": {
  "kernelspec": {
   "display_name": "Python 3",
   "language": "python",
   "name": "python3"
  },
  "language_info": {
   "codemirror_mode": {
    "name": "ipython",
    "version": 3
   },
   "file_extension": ".py",
   "mimetype": "text/x-python",
   "name": "python",
   "nbconvert_exporter": "python",
   "pygments_lexer": "ipython3",
   "version": "3.7.9"
  }
 },
 "nbformat": 4,
 "nbformat_minor": 4
}
